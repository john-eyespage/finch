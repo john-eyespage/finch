{
 "cells": [
  {
   "cell_type": "markdown",
   "metadata": {},
   "source": [
    "Notebook written by [Zhedong Zheng](https://github.com/zhedongzheng)\n",
    "\n",
    "![title](img/birnn_crf.jpg)"
   ]
  },
  {
   "cell_type": "code",
   "execution_count": 1,
   "metadata": {},
   "outputs": [],
   "source": [
    "import chseg\n",
    "import numpy as np\n",
    "import tensorflow as tf\n",
    "\n",
    "from sklearn.metrics import classification_report"
   ]
  },
  {
   "cell_type": "code",
   "execution_count": 2,
   "metadata": {},
   "outputs": [],
   "source": [
    "params = {\n",
    "    'seq_len': 50,\n",
    "    'batch_size': 128,\n",
    "    'n_class': 4,\n",
    "    'hidden_dim': 128,\n",
    "    'clip_norm': 5.0,\n",
    "    'text_iter_step': 10,\n",
    "    'lr': {'start': 5e-3, 'end': 5e-4},\n",
    "    'n_epoch': 1,\n",
    "    'display_step': 50,\n",
    "}"
   ]
  },
  {
   "cell_type": "code",
   "execution_count": 3,
   "metadata": {},
   "outputs": [],
   "source": [
    "def to_test_seq(*args):\n",
    "    return [np.reshape(x[:(len(x)-len(x)%params['seq_len'])],\n",
    "        [-1,params['seq_len']]) for x in args]\n",
    "\n",
    "def iter_seq(x):\n",
    "    return np.array([x[i: i+params['seq_len']] for i in range(\n",
    "        0, len(x)-params['seq_len'], params['text_iter_step'])])\n",
    "\n",
    "def to_train_seq(*args):\n",
    "    return [iter_seq(x) for x in args]"
   ]
  },
  {
   "cell_type": "code",
   "execution_count": 4,
   "metadata": {},
   "outputs": [],
   "source": [
    "def pipeline_train(X, y, sess):\n",
    "    dataset = tf.data.Dataset.from_tensor_slices((X, y))\n",
    "    dataset = dataset.shuffle(len(X)).batch(params['batch_size'])\n",
    "    iterator = dataset.make_initializable_iterator()\n",
    "    X_ph = tf.placeholder(tf.int32, [None, params['seq_len']])\n",
    "    y_ph = tf.placeholder(tf.int32, [None, params['seq_len']])\n",
    "    init_dict = {X_ph: X, y_ph: y}\n",
    "    sess.run(iterator.initializer, init_dict)\n",
    "    return iterator, init_dict\n",
    "\n",
    "def pipeline_test(X, sess):\n",
    "    dataset = tf.data.Dataset.from_tensor_slices(X)\n",
    "    dataset = dataset.batch(params['batch_size'])\n",
    "    iterator = dataset.make_initializable_iterator()\n",
    "    X_ph = tf.placeholder(tf.int32, [None, params['seq_len']])\n",
    "    init_dict = {X_ph: X}\n",
    "    sess.run(iterator.initializer, init_dict)\n",
    "    return iterator, init_dict\n",
    "\n",
    "\n",
    "x_train, y_train, x_test, y_test, params['vocab_size'], word2idx, idx2word = chseg.load_data()\n",
    "X_train, Y_train = to_train_seq(x_train, y_train)\n",
    "X_test, Y_test = to_test_seq(x_test, y_test)\n",
    "\n",
    "sess = tf.Session()\n",
    "params['lr']['steps'] = len(X_train) // params['batch_size']\n",
    "\n",
    "iter_train, init_dict_train = pipeline_train(X_train, Y_train, sess)\n",
    "iter_test, init_dict_test = pipeline_test(X_test, sess)"
   ]
  },
  {
   "cell_type": "code",
   "execution_count": 5,
   "metadata": {},
   "outputs": [],
   "source": [
    "def rnn_cell():\n",
    "    return tf.nn.rnn_cell.GRUCell(params['hidden_dim'],\n",
    "        kernel_initializer=tf.orthogonal_initializer())\n",
    "\n",
    "def clip_grads(loss):\n",
    "    variables = tf.trainable_variables()\n",
    "    grads = tf.gradients(loss, variables)\n",
    "    clipped_grads, _ = tf.clip_by_global_norm(grads, params['clip_norm'])\n",
    "    return zip(clipped_grads, variables)\n",
    "\n",
    "def forward(x, reuse, is_training):\n",
    "    with tf.variable_scope('model', reuse=reuse):\n",
    "        x = tf.contrib.layers.embed_sequence(x, params['vocab_size'], params['hidden_dim'])\n",
    "        x = tf.layers.dropout(x, 0.1, training=is_training)\n",
    "        \n",
    "        bi_outputs, _ = tf.nn.bidirectional_dynamic_rnn(\n",
    "            rnn_cell(), rnn_cell(), x, dtype=tf.float32)\n",
    "        x = tf.concat(bi_outputs, -1)\n",
    "        \n",
    "        logits = tf.layers.dense(x, params['n_class'])\n",
    "    return logits"
   ]
  },
  {
   "cell_type": "code",
   "execution_count": 6,
   "metadata": {},
   "outputs": [
    {
     "name": "stderr",
     "output_type": "stream",
     "text": [
      "/usr/local/lib/python3.6/site-packages/tensorflow/python/ops/gradients_impl.py:98: UserWarning: Converting sparse IndexedSlices to a dense Tensor of unknown shape. This may consume a large amount of memory.\n",
      "  \"Converting sparse IndexedSlices to a dense Tensor of unknown shape. \"\n"
     ]
    }
   ],
   "source": [
    "ops = {}\n",
    "\n",
    "X_train_batch, y_train_batch = iter_train.get_next()\n",
    "X_test_batch = iter_test.get_next()\n",
    "\n",
    "logits_tr = forward(X_train_batch, reuse=False, is_training=True)\n",
    "logits_te = forward(X_test_batch, reuse=True, is_training=False)\n",
    "\n",
    "log_likelihood, trans_params = tf.contrib.crf.crf_log_likelihood(\n",
    "    logits_tr, y_train_batch, tf.count_nonzero(X_train_batch, 1))\n",
    "\n",
    "ops['loss'] = tf.reduce_mean(-log_likelihood)\n",
    "\n",
    "ops['global_step'] = tf.Variable(0, trainable=False)\n",
    "\n",
    "ops['lr'] = tf.train.exponential_decay(\n",
    "    params['lr']['start'], ops['global_step'], params['lr']['steps'],\n",
    "    params['lr']['end']/params['lr']['start'])\n",
    "\n",
    "ops['train'] = tf.train.AdamOptimizer(ops['lr']).apply_gradients(\n",
    "    clip_grads(ops['loss']), global_step=ops['global_step'])\n",
    "\n",
    "ops['crf_decode'] = tf.contrib.crf.crf_decode(\n",
    "    logits_te, trans_params, tf.count_nonzero(X_test_batch, 1))[0]"
   ]
  },
  {
   "cell_type": "code",
   "execution_count": 7,
   "metadata": {},
   "outputs": [
    {
     "name": "stdout",
     "output_type": "stream",
     "text": [
      "Epoch 1 | Step 1 | Loss 76.628 | LR: 0.0050\n",
      "Epoch 1 | Step 50 | Loss 18.339 | LR: 0.0045\n",
      "Epoch 1 | Step 100 | Loss 13.183 | LR: 0.0041\n",
      "Epoch 1 | Step 150 | Loss 9.870 | LR: 0.0037\n",
      "Epoch 1 | Step 200 | Loss 9.473 | LR: 0.0033\n",
      "Epoch 1 | Step 250 | Loss 6.885 | LR: 0.0030\n",
      "Epoch 1 | Step 300 | Loss 7.881 | LR: 0.0027\n",
      "Epoch 1 | Step 350 | Loss 5.689 | LR: 0.0025\n",
      "Epoch 1 | Step 400 | Loss 6.456 | LR: 0.0022\n",
      "Epoch 1 | Step 450 | Loss 6.311 | LR: 0.0020\n",
      "Epoch 1 | Step 500 | Loss 5.858 | LR: 0.0018\n",
      "Epoch 1 | Step 550 | Loss 5.190 | LR: 0.0016\n",
      "Epoch 1 | Step 600 | Loss 4.972 | LR: 0.0015\n",
      "Epoch 1 | Step 650 | Loss 5.196 | LR: 0.0013\n",
      "Epoch 1 | Step 700 | Loss 5.148 | LR: 0.0012\n",
      "Epoch 1 | Step 750 | Loss 4.952 | LR: 0.0011\n",
      "Epoch 1 | Step 800 | Loss 4.903 | LR: 0.0010\n",
      "Epoch 1 | Step 850 | Loss 4.958 | LR: 0.0009\n",
      "Epoch 1 | Step 900 | Loss 4.420 | LR: 0.0008\n",
      "Epoch 1 | Step 950 | Loss 4.587 | LR: 0.0007\n",
      "Epoch 1 | Step 1000 | Loss 4.536 | LR: 0.0007\n",
      "Epoch 1 | Step 1050 | Loss 4.196 | LR: 0.0006\n",
      "Epoch 1 | Step 1100 | Loss 4.350 | LR: 0.0005\n"
     ]
    }
   ],
   "source": [
    "sess.run(tf.global_variables_initializer())\n",
    "for epoch in range(1, params['n_epoch']+1):\n",
    "    while True:\n",
    "        try:\n",
    "            _, step, loss, lr = sess.run([ops['train'],\n",
    "                                          ops['global_step'],\n",
    "                                          ops['loss'],\n",
    "                                          ops['lr']])\n",
    "        except tf.errors.OutOfRangeError:\n",
    "            break\n",
    "        else:\n",
    "            if step % params['display_step'] == 0 or step == 1:\n",
    "                print(\"Epoch %d | Step %d | Loss %.3f | LR: %.4f\" % (epoch, step, loss, lr))\n",
    "    \n",
    "    Y_pred = []\n",
    "    while True:\n",
    "        try:\n",
    "            Y_pred.append(sess.run(ops['crf_decode']))\n",
    "        except tf.errors.OutOfRangeError:\n",
    "            break\n",
    "    Y_pred = np.concatenate(Y_pred)\n",
    "    \n",
    "    if epoch != params['n_epoch']:\n",
    "        sess.run(iter_train.initializer, init_dict_train)\n",
    "        sess.run(iter_test.initializer, init_dict_test)"
   ]
  },
  {
   "cell_type": "code",
   "execution_count": 8,
   "metadata": {},
   "outputs": [
    {
     "name": "stdout",
     "output_type": "stream",
     "text": [
      "             precision    recall  f1-score   support\n",
      "\n",
      "          B       0.93      0.95      0.94    116058\n",
      "          M       0.86      0.77      0.81     25425\n",
      "          E       0.93      0.95      0.94    116057\n",
      "          S       0.94      0.91      0.92    106810\n",
      "\n",
      "avg / total       0.93      0.93      0.93    364350\n",
      "\n",
      "我 来到 大学 读书 ， 希望 学 到 知识 \n"
     ]
    }
   ],
   "source": [
    "print(classification_report(Y_test.ravel(), Y_pred.ravel(), target_names=['B','M','E','S']))\n",
    "\n",
    "sample = '我来到大学读书，希望学到知识'\n",
    "x = np.atleast_2d([word2idx[w] for w in sample] + [0]*(params['seq_len']-len(sample)))\n",
    "\n",
    "ph = tf.placeholder(tf.int32, [None, params['seq_len']])\n",
    "logits = forward(ph, reuse=True, is_training=False)\n",
    "inference = tf.contrib.crf.crf_decode(logits, trans_params, tf.count_nonzero(ph, 1))[0]\n",
    "\n",
    "x = sess.run(inference, {ph: x})[0][:len(sample)]\n",
    "res = ''\n",
    "for i, l in enumerate(x):\n",
    "    c = sample[i]\n",
    "    if l == 2 or l == 3:\n",
    "        c += ' '\n",
    "    res += c\n",
    "print(res)"
   ]
  },
  {
   "cell_type": "code",
   "execution_count": null,
   "metadata": {},
   "outputs": [],
   "source": []
  }
 ],
 "metadata": {
  "kernelspec": {
   "display_name": "Python 3",
   "language": "python",
   "name": "python3"
  },
  "language_info": {
   "codemirror_mode": {
    "name": "ipython",
    "version": 3
   },
   "file_extension": ".py",
   "mimetype": "text/x-python",
   "name": "python",
   "nbconvert_exporter": "python",
   "pygments_lexer": "ipython3",
   "version": "3.6.5"
  }
 },
 "nbformat": 4,
 "nbformat_minor": 2
}
