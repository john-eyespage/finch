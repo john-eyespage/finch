{
 "cells": [
  {
   "cell_type": "markdown",
   "metadata": {},
   "source": [
    "Author: [Zhedong Zheng](https://github.com/zhedongzheng)\n",
    "\n",
    "<img src=\"img/tfidf.gif\" width=\"400\">"
   ]
  },
  {
   "cell_type": "code",
   "execution_count": 1,
   "metadata": {},
   "outputs": [],
   "source": [
    "from sklearn.feature_extraction.text import TfidfTransformer\n",
    "import tensorflow as tf\n",
    "import numpy as np\n",
    "import time"
   ]
  },
  {
   "cell_type": "code",
   "execution_count": 2,
   "metadata": {},
   "outputs": [],
   "source": [
    "VOCAB_SIZE = 20000\n",
    "BATCH_SIZE = 32\n",
    "N_EPOCH = 2"
   ]
  },
  {
   "cell_type": "code",
   "execution_count": 3,
   "metadata": {},
   "outputs": [],
   "source": [
    "def sparse_tfidf(X):\n",
    "    t0 = time.time()\n",
    "    count = np.zeros((len(X), VOCAB_SIZE))\n",
    "    for i, indices in enumerate(X):\n",
    "        for idx in indices:\n",
    "            count[i, idx] += 1\n",
    "    print(\"%.2f secs ==> Document-Term Matrix\"%(time.time()-t0))\n",
    "\n",
    "    t0 = time.time()\n",
    "    X = TfidfTransformer().fit_transform(count)\n",
    "    print(\"%.2f secs ==> TF-IDF transform\\n\"%(time.time()-t0))\n",
    "    return X"
   ]
  },
  {
   "cell_type": "code",
   "execution_count": 4,
   "metadata": {},
   "outputs": [],
   "source": [
    "def next_train_batch(X, y):\n",
    "    for i in range(0, X.shape[0], BATCH_SIZE):\n",
    "        yield X[i : i+BATCH_SIZE].toarray(), y[i: i+BATCH_SIZE]\n",
    "\n",
    "def next_test_batch(X):\n",
    "    for i in range(0, X.shape[0], BATCH_SIZE):\n",
    "        yield X[i : i+BATCH_SIZE].toarray()\n",
    "\n",
    "def train_input_fn(X_train, y_train):\n",
    "    dataset = tf.data.Dataset.from_generator(\n",
    "        lambda: next_train_batch(X_train, y_train), (tf.float32, tf.int64),\n",
    "        (tf.TensorShape([None, VOCAB_SIZE]), tf.TensorShape([None])))\n",
    "    iterator = dataset.make_one_shot_iterator()\n",
    "    feats, labels = iterator.get_next()\n",
    "    feats = {'x': feats}\n",
    "    return feats, labels\n",
    "\n",
    "def predict_input_fn(X_test):\n",
    "    dataset = tf.data.Dataset.from_generator(\n",
    "        lambda: next_test_batch(X_test), tf.float32,\n",
    "        tf.TensorShape([None, VOCAB_SIZE]))\n",
    "    iterator = dataset.make_one_shot_iterator()\n",
    "    feats = iterator.get_next()\n",
    "    feats = {'x': feats}\n",
    "    return feats"
   ]
  },
  {
   "cell_type": "code",
   "execution_count": 5,
   "metadata": {},
   "outputs": [
    {
     "name": "stdout",
     "output_type": "stream",
     "text": [
      "3.57 secs ==> Document-Term Matrix\n",
      "10.49 secs ==> TF-IDF transform\n",
      "\n",
      "4.04 secs ==> Document-Term Matrix\n",
      "10.16 secs ==> TF-IDF transform\n",
      "\n",
      "INFO:tensorflow:Using default config.\n",
      "WARNING:tensorflow:Using temporary folder as model directory: /var/folders/sx/fv0r97j96fz8njp14dt5g7940000gn/T/tmpd8ys0_py\n",
      "INFO:tensorflow:Using config: {'_model_dir': '/var/folders/sx/fv0r97j96fz8njp14dt5g7940000gn/T/tmpd8ys0_py', '_tf_random_seed': None, '_save_summary_steps': 100, '_save_checkpoints_steps': None, '_save_checkpoints_secs': 600, '_session_config': None, '_keep_checkpoint_max': 5, '_keep_checkpoint_every_n_hours': 10000, '_log_step_count_steps': 100, '_train_distribute': None, '_service': None, '_cluster_spec': <tensorflow.python.training.server_lib.ClusterSpec object at 0x11304e1d0>, '_task_type': 'worker', '_task_id': 0, '_global_id_in_cluster': 0, '_master': '', '_evaluation_master': '', '_is_chief': True, '_num_ps_replicas': 0, '_num_worker_replicas': 1}\n",
      "INFO:tensorflow:Calling model_fn.\n",
      "INFO:tensorflow:Done calling model_fn.\n",
      "INFO:tensorflow:Create CheckpointSaverHook.\n",
      "INFO:tensorflow:Graph was finalized.\n",
      "INFO:tensorflow:Running local_init_op.\n",
      "INFO:tensorflow:Done running local_init_op.\n",
      "INFO:tensorflow:Saving checkpoints for 1 into /var/folders/sx/fv0r97j96fz8njp14dt5g7940000gn/T/tmpd8ys0_py/model.ckpt.\n",
      "INFO:tensorflow:loss = 22.18071, step = 1\n",
      "INFO:tensorflow:global_step/sec: 231.017\n",
      "INFO:tensorflow:loss = 15.875162, step = 101 (0.434 sec)\n",
      "INFO:tensorflow:global_step/sec: 264.51\n",
      "INFO:tensorflow:loss = 12.77622, step = 201 (0.378 sec)\n",
      "INFO:tensorflow:global_step/sec: 265.343\n",
      "INFO:tensorflow:loss = 13.290194, step = 301 (0.377 sec)\n",
      "INFO:tensorflow:global_step/sec: 270.9\n",
      "INFO:tensorflow:loss = 11.7127285, step = 401 (0.369 sec)\n",
      "INFO:tensorflow:global_step/sec: 270.481\n",
      "INFO:tensorflow:loss = 12.755701, step = 501 (0.370 sec)\n",
      "INFO:tensorflow:global_step/sec: 270.815\n",
      "INFO:tensorflow:loss = 11.924098, step = 601 (0.369 sec)\n",
      "INFO:tensorflow:global_step/sec: 262.831\n",
      "INFO:tensorflow:loss = 11.500341, step = 701 (0.380 sec)\n",
      "INFO:tensorflow:Saving checkpoints for 782 into /var/folders/sx/fv0r97j96fz8njp14dt5g7940000gn/T/tmpd8ys0_py/model.ckpt.\n",
      "INFO:tensorflow:Loss for final step: 2.5052712.\n",
      "INFO:tensorflow:Calling model_fn.\n",
      "INFO:tensorflow:Done calling model_fn.\n",
      "INFO:tensorflow:Graph was finalized.\n",
      "INFO:tensorflow:Restoring parameters from /var/folders/sx/fv0r97j96fz8njp14dt5g7940000gn/T/tmpd8ys0_py/model.ckpt-782\n",
      "INFO:tensorflow:Running local_init_op.\n",
      "INFO:tensorflow:Done running local_init_op.\n",
      "\n",
      "Validation Accuracy: 0.8814\n",
      "\n",
      "INFO:tensorflow:Calling model_fn.\n",
      "INFO:tensorflow:Done calling model_fn.\n",
      "INFO:tensorflow:Create CheckpointSaverHook.\n",
      "INFO:tensorflow:Graph was finalized.\n",
      "INFO:tensorflow:Restoring parameters from /var/folders/sx/fv0r97j96fz8njp14dt5g7940000gn/T/tmpd8ys0_py/model.ckpt-782\n",
      "INFO:tensorflow:Running local_init_op.\n",
      "INFO:tensorflow:Done running local_init_op.\n",
      "INFO:tensorflow:Saving checkpoints for 783 into /var/folders/sx/fv0r97j96fz8njp14dt5g7940000gn/T/tmpd8ys0_py/model.ckpt.\n",
      "INFO:tensorflow:loss = 7.1091785, step = 783\n",
      "INFO:tensorflow:global_step/sec: 226.403\n",
      "INFO:tensorflow:loss = 10.239683, step = 883 (0.443 sec)\n",
      "INFO:tensorflow:global_step/sec: 277.399\n",
      "INFO:tensorflow:loss = 7.829172, step = 983 (0.360 sec)\n",
      "INFO:tensorflow:global_step/sec: 261.185\n",
      "INFO:tensorflow:loss = 9.497223, step = 1083 (0.383 sec)\n",
      "INFO:tensorflow:global_step/sec: 274.887\n",
      "INFO:tensorflow:loss = 9.079909, step = 1183 (0.363 sec)\n",
      "INFO:tensorflow:global_step/sec: 270.688\n",
      "INFO:tensorflow:loss = 10.324162, step = 1283 (0.369 sec)\n",
      "INFO:tensorflow:global_step/sec: 269.182\n",
      "INFO:tensorflow:loss = 9.531768, step = 1383 (0.372 sec)\n",
      "INFO:tensorflow:global_step/sec: 269.195\n",
      "INFO:tensorflow:loss = 10.186126, step = 1483 (0.371 sec)\n",
      "INFO:tensorflow:Saving checkpoints for 1564 into /var/folders/sx/fv0r97j96fz8njp14dt5g7940000gn/T/tmpd8ys0_py/model.ckpt.\n",
      "INFO:tensorflow:Loss for final step: 1.8364863.\n",
      "INFO:tensorflow:Calling model_fn.\n",
      "INFO:tensorflow:Done calling model_fn.\n",
      "INFO:tensorflow:Graph was finalized.\n",
      "INFO:tensorflow:Restoring parameters from /var/folders/sx/fv0r97j96fz8njp14dt5g7940000gn/T/tmpd8ys0_py/model.ckpt-1564\n",
      "INFO:tensorflow:Running local_init_op.\n",
      "INFO:tensorflow:Done running local_init_op.\n",
      "\n",
      "Validation Accuracy: 0.8884\n",
      "\n"
     ]
    }
   ],
   "source": [
    "(X_train, y_train), (X_test, y_test) = tf.keras.datasets.imdb.load_data(num_words=VOCAB_SIZE)\n",
    "X_train = sparse_tfidf(X_train)\n",
    "X_test = sparse_tfidf(X_test)\n",
    "\n",
    "numeric_feat = tf.feature_column.numeric_column('x', shape=VOCAB_SIZE)\n",
    "\n",
    "model = tf.estimator.LinearClassifier([numeric_feat])\n",
    "\n",
    "for _ in range(N_EPOCH):\n",
    "    model.train(lambda: train_input_fn(X_train, y_train))\n",
    "    y_pred = list(model.predict(lambda: predict_input_fn(X_test), predict_keys='class_ids'))\n",
    "    y_pred = [kv['class_ids'][0] for kv in y_pred]\n",
    "    print(\"\\nValidation Accuracy: %.4f\\n\" % (y_pred==y_test).mean())"
   ]
  },
  {
   "cell_type": "code",
   "execution_count": null,
   "metadata": {},
   "outputs": [],
   "source": []
  }
 ],
 "metadata": {
  "kernelspec": {
   "display_name": "Python 3",
   "language": "python",
   "name": "python3"
  },
  "language_info": {
   "codemirror_mode": {
    "name": "ipython",
    "version": 3
   },
   "file_extension": ".py",
   "mimetype": "text/x-python",
   "name": "python",
   "nbconvert_exporter": "python",
   "pygments_lexer": "ipython3",
   "version": "3.6.5"
  }
 },
 "nbformat": 4,
 "nbformat_minor": 2
}
